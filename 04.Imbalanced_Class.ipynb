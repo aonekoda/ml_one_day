{
  "cells": [
    {
      "cell_type": "markdown",
      "metadata": {
        "id": "view-in-github",
        "colab_type": "text"
      },
      "source": [
        "<a href=\"https://colab.research.google.com/github/aonekoda/ml_one_day/blob/main/Imbalanced_Class.ipynb\" target=\"_parent\"><img src=\"https://colab.research.google.com/assets/colab-badge.svg\" alt=\"Open In Colab\"/></a>"
      ]
    },
    {
      "cell_type": "markdown",
      "metadata": {
        "id": "N5NNKroTx5sf"
      },
      "source": [
        "# 불균형한 클래스 처리하기\n",
        "\n",
        "실전에서는 불균형한 클래스의 경우가 많다. 예를 들어 희귀함의 경우 샘플의 수가 매우 적을 수 밖에 없다. 이런 이유 때문에 불균형한 클래스를 다루는 일은 머신러닝에서 흔하다.  \n",
        "가장 좋은 방법의 소수 클래스의 샘플을 더 많이 모으는 것이지만 이것이 불가능한 경우가 많기 때문에 다른 선택 사항을 고려해야 한다.  "
      ]
    },
    {
      "cell_type": "code",
      "execution_count": null,
      "metadata": {
        "id": "O2z6MN9ax5sk"
      },
      "outputs": [],
      "source": [
        "import numpy as np\n",
        "from sklearn.ensemble import RandomForestClassifier\n",
        "from sklearn.datasets import load_iris"
      ]
    },
    {
      "cell_type": "code",
      "execution_count": null,
      "metadata": {
        "id": "rv3xgQJMx5sm",
        "outputId": "7fef4cf3-e463-4b02-8e7e-9c0b503c9239"
      },
      "outputs": [
        {
          "data": {
            "text/plain": [
              "array([0, 0, 0, 0, 0, 0, 0, 0, 0, 0, 1, 1, 1, 1, 1, 1, 1, 1, 1, 1, 1, 1,\n",
              "       1, 1, 1, 1, 1, 1, 1, 1, 1, 1, 1, 1, 1, 1, 1, 1, 1, 1, 1, 1, 1, 1,\n",
              "       1, 1, 1, 1, 1, 1, 1, 1, 1, 1, 1, 1, 1, 1, 1, 1, 1, 1, 1, 1, 1, 1,\n",
              "       1, 1, 1, 1, 1, 1, 1, 1, 1, 1, 1, 1, 1, 1, 1, 1, 1, 1, 1, 1, 1, 1,\n",
              "       1, 1, 1, 1, 1, 1, 1, 1, 1, 1, 1, 1, 1, 1, 1, 1, 1, 1, 1, 1, 1, 1])"
            ]
          },
          "execution_count": 2,
          "metadata": {},
          "output_type": "execute_result"
        }
      ],
      "source": [
        "#  불균형한 클래스의 생성\n",
        "iris = load_iris()\n",
        "features = iris.data\n",
        "target = iris.target\n",
        "\n",
        "features = features[40:, :]\n",
        "target = target[40:]\n",
        "\n",
        "target = np.where((target ==0), 0, 1)\n",
        "target"
      ]
    },
    {
      "cell_type": "markdown",
      "metadata": {
        "id": "VF1WLZhex5so"
      },
      "source": [
        "### Class_Weights의 사용\n",
        "머신러닝 모형은 class_weight옵션을 지원하는데 이를 통해 알고리즘이 불균형한 클래스를 조정할 수 있다."
      ]
    },
    {
      "cell_type": "code",
      "execution_count": null,
      "metadata": {
        "id": "KH_WjhrJx5so"
      },
      "outputs": [],
      "source": [
        "#  명시적으로 불균등한 클래스에 가중치를 부여한다.\n",
        "weights = {0: .9, 1:.1}"
      ]
    },
    {
      "cell_type": "code",
      "execution_count": null,
      "metadata": {
        "id": "-rc-5jPqx5sp",
        "outputId": "d2e569ea-9099-400d-c065-05b5c3eed49c"
      },
      "outputs": [
        {
          "data": {
            "text/plain": [
              "RandomForestClassifier(class_weight={0: 0.9, 1: 0.1})"
            ]
          },
          "execution_count": 11,
          "metadata": {},
          "output_type": "execute_result"
        }
      ],
      "source": [
        "# 머신러닝 알고리즘에서 \"class_weight\"옵션을 제공한다.\n",
        "RandomForestClassifier(class_weight=weights)"
      ]
    },
    {
      "cell_type": "code",
      "execution_count": null,
      "metadata": {
        "id": "4VTkiNQJx5sp",
        "outputId": "29e84812-b9ba-4e50-de47-b967cebd9393"
      },
      "outputs": [
        {
          "data": {
            "text/plain": [
              "RandomForestClassifier(class_weight='balanced')"
            ]
          },
          "execution_count": 12,
          "metadata": {},
          "output_type": "execute_result"
        }
      ],
      "source": [
        "# class_weight\"옵션을 balanced로 설정하면 클래스 빈도에 반비려하여 자동으로 가중치를 만들어 준다.\n",
        "\n",
        "RandomForestClassifier(class_weight=\"balanced\")"
      ]
    },
    {
      "cell_type": "markdown",
      "metadata": {
        "id": "I1dWh_hex5sq"
      },
      "source": [
        "### 다운샘플링(Down-sampling), 업샘플링(up-sampling)\n",
        "* 다운샘플링 : 다수 클래스의 샘플 수를 줄인다.\n",
        "* 업샘플링 : 소수 클래스의 샘플 수를 늘린다."
      ]
    },
    {
      "cell_type": "code",
      "execution_count": null,
      "metadata": {
        "id": "s74fxN7Rx5sr"
      },
      "outputs": [],
      "source": [
        "# 각 클래스의 샘플 인덱스 추출\n",
        "i_class0 = np.where(target==0)[0]\n",
        "i_class1 = np.where(target==1)[0]"
      ]
    },
    {
      "cell_type": "code",
      "execution_count": null,
      "metadata": {
        "id": "dRdxhrrlx5ss",
        "outputId": "060a81ed-0799-4209-a6af-138708f84417"
      },
      "outputs": [
        {
          "name": "stdout",
          "output_type": "stream",
          "text": [
            "10 100\n"
          ]
        }
      ],
      "source": [
        "# 각 클래스의 샘플 갯수\n",
        "n_class0 = len(i_class0)\n",
        "n_class1 = len(i_class1)\n",
        "\n",
        "print(n_class0, n_class1)"
      ]
    },
    {
      "cell_type": "markdown",
      "metadata": {
        "id": "4G-KEqrkx5ss"
      },
      "source": [
        "### 다운샘플링"
      ]
    },
    {
      "cell_type": "code",
      "execution_count": null,
      "metadata": {
        "id": "LgvRb6-Gx5st"
      },
      "outputs": [],
      "source": [
        "# 클래스0의 샘플만큼 클래스 1에서 중복을 허용하지 않고 랜덤 샘플\n",
        "i_class1_downsampled = np.random.choice(i_class1, size=n_class0, replace=False)"
      ]
    },
    {
      "cell_type": "code",
      "execution_count": null,
      "metadata": {
        "id": "OI8j5qv9x5st"
      },
      "outputs": [],
      "source": [
        "# 클래스0와 클래스1을 합친다.\n",
        "\n",
        "new_target = np.hstack((target[i_class0], target[i_class1_downsampled]))\n",
        "new_features = np.vstack((features[i_class0, :], features[i_class1_downsampled, :]))"
      ]
    },
    {
      "cell_type": "code",
      "execution_count": null,
      "metadata": {
        "id": "QUsmriPlx5su",
        "outputId": "f9b7138e-9a01-418a-8722-c6c320f7d314"
      },
      "outputs": [
        {
          "name": "stdout",
          "output_type": "stream",
          "text": [
            "[0 0 0 0 0 0 0 0 0 0 1 1 1 1 1 1 1 1 1 1]\n",
            "[[5.  3.5 1.3 0.3]\n",
            " [4.5 2.3 1.3 0.3]\n",
            " [4.4 3.2 1.3 0.2]\n",
            " [5.  3.5 1.6 0.6]\n",
            " [5.1 3.8 1.9 0.4]\n",
            " [4.8 3.  1.4 0.3]\n",
            " [5.1 3.8 1.6 0.2]\n",
            " [4.6 3.2 1.4 0.2]\n",
            " [5.3 3.7 1.5 0.2]\n",
            " [5.  3.3 1.4 0.2]\n",
            " [6.7 3.  5.  1.7]\n",
            " [6.1 2.6 5.6 1.4]\n",
            " [6.2 2.8 4.8 1.8]\n",
            " [7.2 3.  5.8 1.6]\n",
            " [7.2 3.2 6.  1.8]\n",
            " [6.4 3.2 5.3 2.3]\n",
            " [6.  3.  4.8 1.8]\n",
            " [6.3 3.4 5.6 2.4]\n",
            " [6.4 2.8 5.6 2.2]\n",
            " [6.6 3.  4.4 1.4]]\n"
          ]
        }
      ],
      "source": [
        "print(new_target)\n",
        "print(new_features)"
      ]
    },
    {
      "cell_type": "markdown",
      "metadata": {
        "id": "2o4hHEb-x5su"
      },
      "source": [
        "### 업샘플링"
      ]
    },
    {
      "cell_type": "code",
      "execution_count": null,
      "metadata": {
        "id": "41b84GWrx5su"
      },
      "outputs": [],
      "source": [
        "# 클래스1의 샘플만큼 클래스 0에서 중복을 허용하여 랜덤 샘플\n",
        "i_class0_upsampled = np.random.choice(i_class0, size=n_class1, replace=True)"
      ]
    },
    {
      "cell_type": "code",
      "execution_count": null,
      "metadata": {
        "id": "njofVfpix5sv"
      },
      "outputs": [],
      "source": [
        "# 클래스0와 클래스1을 합친다.\n",
        "\n",
        "new_target = np.hstack((target[i_class0_upsampled], target[i_class1]))\n",
        "new_features = np.vstack((features[i_class0_upsampled, :], features[i_class1, :]))"
      ]
    },
    {
      "cell_type": "code",
      "execution_count": null,
      "metadata": {
        "scrolled": false,
        "id": "nqTXBj1Dx5sv"
      },
      "outputs": [],
      "source": [
        "print(new_target)\n",
        "print(new_features)"
      ]
    },
    {
      "cell_type": "markdown",
      "metadata": {
        "id": "MM5vsmg8x5sv"
      },
      "source": [
        "### 결론\n",
        "* 머신러닝의 일부 모형은 class_weight옵션을 지원하는데 이를 통해 알고리즘이 불균형한 클래스를 조정할 수 있다. sklearn에서 제공하는 대부분의 분류 모형은 이 옵션을 지원한다. 도움말, 매뉴얼을 참조하자.\n",
        "* 다운샘플링과 업샘플링을 통해 데이터의 크기를 임의로 조절한다. 어떤 것을 사용할지 여부는 문제에 따라 다르다. 일반적으로 둘 다 시도해 보고 더 나은 결과를 선택하도록 하자."
      ]
    }
  ],
  "metadata": {
    "kernelspec": {
      "display_name": "Python 3",
      "language": "python",
      "name": "python3"
    },
    "language_info": {
      "codemirror_mode": {
        "name": "ipython",
        "version": 3
      },
      "file_extension": ".py",
      "mimetype": "text/x-python",
      "name": "python",
      "nbconvert_exporter": "python",
      "pygments_lexer": "ipython3",
      "version": "3.8.8"
    },
    "colab": {
      "name": "Imbalanced_Class.ipynb",
      "provenance": [],
      "include_colab_link": true
    }
  },
  "nbformat": 4,
  "nbformat_minor": 0
}
