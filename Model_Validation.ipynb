{
  "cells": [
    {
      "cell_type": "markdown",
      "metadata": {
        "id": "view-in-github",
        "colab_type": "text"
      },
      "source": [
        "<a href=\"https://colab.research.google.com/github/aonekoda/ml_one_day/blob/main/Model_Validation.ipynb\" target=\"_parent\"><img src=\"https://colab.research.google.com/assets/colab-badge.svg\" alt=\"Open In Colab\"/></a>"
      ]
    },
    {
      "cell_type": "markdown",
      "metadata": {
        "id": "QAxfrxX0Dbsd"
      },
      "source": [
        "# k-겹 교차 검증을 사용한 모델 성능 평가\n",
        "\n",
        "\n",
        "훈련데이터의 일부를 Validation용을 분리하고 모형을 평가하는데 사용한다.\n",
        "\n",
        "* **K-Fold Cross Validation** 은 데이터를 K개의 부분으로 나눈다\n",
        "* K-1개의 폴드를 하나의 훈련셋으로 하여 훈련하고 남은 1개의 폴드를 테스트셋처럼 사용한다.\n",
        "* K번 반복하여 얻은 모형의 성능을 평균하여 최종 성능을 산출한다."
      ]
    },
    {
      "cell_type": "code",
      "execution_count": 1,
      "metadata": {
        "id": "JB64Ik3fDbsh"
      },
      "outputs": [],
      "source": [
        "import numpy as np\n",
        "import matplotlib.pyplot as plt\n",
        "%matplotlib inline"
      ]
    },
    {
      "cell_type": "markdown",
      "metadata": {
        "id": "h9Te9kUcDbsj"
      },
      "source": [
        "유방암데이터를 사용한다. "
      ]
    },
    {
      "cell_type": "code",
      "execution_count": 2,
      "metadata": {
        "id": "L55vZgYPDbsk"
      },
      "outputs": [],
      "source": [
        "from sklearn.datasets import load_breast_cancer\n",
        "\n",
        "cancer = load_breast_cancer()\n",
        "\n",
        "X = cancer.data\n",
        "y = cancer.target"
      ]
    },
    {
      "cell_type": "code",
      "execution_count": 3,
      "metadata": {
        "id": "QXtkRURSDbsk"
      },
      "outputs": [],
      "source": [
        "from sklearn.model_selection import train_test_split\n",
        "\n",
        "X_train, X_test, y_train, y_test = train_test_split(\n",
        "    X, y, test_size=0.3, random_state=1, stratify=y)"
      ]
    },
    {
      "cell_type": "code",
      "execution_count": 4,
      "metadata": {
        "colab": {
          "base_uri": "https://localhost:8080/"
        },
        "id": "cG7Sf85sDbsl",
        "outputId": "8f4722f7-ebf2-42b6-9cc6-1224868a1726"
      },
      "outputs": [
        {
          "output_type": "execute_result",
          "data": {
            "text/plain": [
              "LogisticRegression(solver='liblinear')"
            ]
          },
          "metadata": {},
          "execution_count": 4
        }
      ],
      "source": [
        "from sklearn.linear_model import LogisticRegression\n",
        "\n",
        "model = LogisticRegression(solver='liblinear')\n",
        "\n",
        "model.fit(X_train, y_train)"
      ]
    },
    {
      "cell_type": "markdown",
      "metadata": {
        "id": "ZolnGv1UDbso"
      },
      "source": [
        "### cross_val_score   \n",
        "    * estimator : 검증하고자 하는 모형, 파이프라인\n",
        "    * cv : 정수를 입력하면 기본 분할기의 폴드 수를 지정한다.\n",
        "    * n_jobs : 사용 가능한 CPU 코어의 갯수 (-1이면 모두 사용)\n",
        "    * scoring : \"accuracy\"가 기본, \"recall\",\"precision\"등을 사용할 수 있다."
      ]
    },
    {
      "cell_type": "code",
      "execution_count": 5,
      "metadata": {
        "colab": {
          "base_uri": "https://localhost:8080/"
        },
        "id": "_e5XoVXVDbsp",
        "outputId": "a4d850ad-031b-4827-902b-50a087abbe4e"
      },
      "outputs": [
        {
          "output_type": "stream",
          "name": "stdout",
          "text": [
            "CV 정확도 점수: [0.94736842 0.9122807  0.92982456 0.94736842 0.96491228 0.98245614\n",
            " 0.94736842 0.94736842 0.96491228 0.96428571]\n",
            "CV 정확도: 0.951\n"
          ]
        }
      ],
      "source": [
        "from sklearn.model_selection import cross_val_score\n",
        "\n",
        "scores = cross_val_score(estimator=model,  # 파이프라인 또는 모형\n",
        "                         X=X,  # 특성값\n",
        "                         y=y,  # 타겟값\n",
        "                         cv=10,   # 10-Fold Cross validation\n",
        "                         n_jobs=1)\n",
        "print('CV 정확도 점수: %s' % scores)\n",
        "print('CV 정확도: %.3f' % np.mean(scores)) # 평균을 계산한다."
      ]
    },
    {
      "cell_type": "markdown",
      "source": [
        "# Learning Curve 학습 곡선을 사용한 모형의 평가\n",
        "\n",
        "* learning_curve 함수를 사용. \n",
        "* 훈련 데이터셋의 샘플 갯수에 따른 영향을 평가하고자 한다.\n"
      ],
      "metadata": {
        "id": "ecgg0-fxFDjw"
      }
    },
    {
      "cell_type": "code",
      "source": [
        "from sklearn.model_selection import learning_curve\n",
        "\n",
        "\n",
        "train_sizes, train_scores, test_scores =\\\n",
        "                learning_curve(estimator=model,\n",
        "                               X=X_train,\n",
        "                               y=y_train,\n",
        "                               train_sizes=np.linspace(0.1, 1.0, 10),\n",
        "                               cv=10,\n",
        "                               n_jobs=1)\n"
      ],
      "metadata": {
        "id": "8bSW8xaDFLaH"
      },
      "execution_count": 6,
      "outputs": []
    },
    {
      "cell_type": "code",
      "source": [
        "train_sizes"
      ],
      "metadata": {
        "colab": {
          "base_uri": "https://localhost:8080/"
        },
        "id": "RGlTEpH5FNOA",
        "outputId": "e4046a4f-0d86-4c0e-b299-c4399ece7f1c"
      },
      "execution_count": 7,
      "outputs": [
        {
          "output_type": "execute_result",
          "data": {
            "text/plain": [
              "array([ 35,  71, 107, 143, 179, 214, 250, 286, 322, 358])"
            ]
          },
          "metadata": {},
          "execution_count": 7
        }
      ]
    },
    {
      "cell_type": "code",
      "source": [
        "train_mean = np.mean(train_scores, axis=1)\n",
        "test_mean = np.mean(test_scores, axis=1)\n",
        "\n",
        "plt.plot(train_sizes, train_mean,\n",
        "         color='blue', marker='o',\n",
        "         markersize=5, label='training accuracy')\n",
        "\n",
        "plt.plot(train_sizes, test_mean,\n",
        "         color='green', linestyle='--',\n",
        "         marker='s', markersize=5,\n",
        "         label='validation accuracy')\n",
        "plt.grid()\n",
        "plt.xlabel('Number of training samples')\n",
        "plt.ylabel('Accuracy')\n",
        "plt.legend(loc='lower right')\n"
      ],
      "metadata": {
        "colab": {
          "base_uri": "https://localhost:8080/",
          "height": 297
        },
        "id": "jvBYFK2YFUM7",
        "outputId": "f8d1d40a-22f1-4fa8-a835-bdc777aefb3a"
      },
      "execution_count": 8,
      "outputs": [
        {
          "output_type": "execute_result",
          "data": {
            "text/plain": [
              "<matplotlib.legend.Legend at 0x7f0094e2a8d0>"
            ]
          },
          "metadata": {},
          "execution_count": 8
        },
        {
          "output_type": "display_data",
          "data": {
            "image/png": "[encoded data removed]",
            "text/plain": [
              "<Figure size 432x288 with 1 Axes>"
            ]
          },
          "metadata": {
            "needs_background": "light"
          }
        }
      ]
    },
    {
      "cell_type": "markdown",
      "source": [
        "\n",
        "* train_sizes 파라미터를 통행 훈련세트의 비율을 0.1에서 1.0 사이로 총 10개를 생성\n",
        "* cv 파라미터를 통해 10-fold CV를 설정\n",
        "* train 정확도와 validataion 정확도를 시각화\n",
        "* train 데이터의 비율이 0.7(250개) 이상일 경우에 모형의 성능이 좋다.\n"
      ],
      "metadata": {
        "id": "8U0DwzjaFZVh"
      }
    },
    {
      "cell_type": "markdown",
      "source": [
        "\n",
        "#  Validation_Curve검증 곡선으로 모형 평가하기\n",
        "\n",
        "\n",
        "* 일부 하이퍼 파라미터 값을 변경할 때 모형의 성능 변화를 평가하고자 한다.\n",
        "* validation_curve 함수 사용\n",
        "    * param_name : 변경할 하이퍼 파라미터의 이름\n",
        "    * param_range : 사용할 하이퍼파라미터의 범위\n",
        "\n"
      ],
      "metadata": {
        "id": "joQlaUDsFewG"
      }
    },
    {
      "cell_type": "code",
      "source": [
        "from sklearn.model_selection import validation_curve\n",
        "\n",
        "param_range = [0.01, 0.1, 1.0, 10.0, 100.0, 1000.0]\n",
        "train_scores, test_scores = validation_curve(\n",
        "                estimator=model, \n",
        "                X=X_train, \n",
        "                y=y_train, \n",
        "                param_name='C', # 로지스틱 회귀에서 규제\n",
        "                param_range=param_range,\n",
        "                cv=10)\n"
      ],
      "metadata": {
        "id": "eDqXWL1TFpCW"
      },
      "execution_count": 9,
      "outputs": []
    },
    {
      "cell_type": "code",
      "source": [
        "train_mean = np.mean(train_scores, axis=1)\n",
        "test_mean = np.mean(test_scores, axis=1)"
      ],
      "metadata": {
        "id": "F9Abtov8FrA0"
      },
      "execution_count": 10,
      "outputs": []
    },
    {
      "cell_type": "code",
      "source": [
        "\n",
        "plt.plot(param_range, train_mean, \n",
        "         color='blue', marker='o', \n",
        "         markersize=5, label='training accuracy')\n",
        "plt.plot(param_range, test_mean, \n",
        "         color='green', linestyle='--', \n",
        "         marker='s', markersize=5, \n",
        "         label='validation accuracy')\n",
        "plt.grid()\n",
        "plt.xscale('log')\n",
        "plt.legend(loc='lower right')\n",
        "plt.xlabel('Parameter C')\n",
        "plt.ylabel('Accuracy')\n",
        "plt.ylim([0.9, 1.00])\n",
        "plt.tight_layout()\n",
        "plt.show()\n",
        "\n"
      ],
      "metadata": {
        "colab": {
          "base_uri": "https://localhost:8080/",
          "height": 297
        },
        "id": "kOrHXD3SEeqG",
        "outputId": "383e1ebb-aa7b-4df7-d5dc-890acf6109cb"
      },
      "execution_count": 11,
      "outputs": [
        {
          "output_type": "display_data",
          "data": {
            "image/png": "[encoded data removed]",
            "text/plain": [
              "<Figure size 432x288 with 1 Axes>"
            ]
          },
          "metadata": {
            "needs_background": "light"
          }
        }
      ]
    },
    {
      "cell_type": "markdown",
      "source": [
        "* validation_curve 함수는 기본적으로 CV를 통해 성능을 추정한다.\n",
        "* validation_curve 함수 안에서 평가하고자 하는 파라미터를 지정한다. \n",
        "* param_name='logisticregression__C' --> 이 경우에는 logisticregression 모형의 C 파라미터를 의미한다.\n",
        "* C의 값을 높일수록 규제가 약해지고 조금 과대 적합되는 경향이 보인다. \n"
      ],
      "metadata": {
        "id": "hxLQ2JPdFtdw"
      }
    }
  ],
  "metadata": {
    "kernelspec": {
      "display_name": "Python 3",
      "language": "python",
      "name": "python3"
    },
    "language_info": {
      "codemirror_mode": {
        "name": "ipython",
        "version": 3
      },
      "file_extension": ".py",
      "mimetype": "text/x-python",
      "name": "python",
      "nbconvert_exporter": "python",
      "pygments_lexer": "ipython3",
      "version": "3.8.8"
    },
    "colab": {
      "name": "Model_Validation.ipynb",
      "provenance": [],
      "include_colab_link": true
    }
  },
  "nbformat": 4,
  "nbformat_minor": 0
}