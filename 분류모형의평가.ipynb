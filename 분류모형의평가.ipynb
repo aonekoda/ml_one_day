{
  "cells": [
    {
      "cell_type": "markdown",
      "metadata": {
        "id": "view-in-github",
        "colab_type": "text"
      },
      "source": [
        "<a href=\"https://colab.research.google.com/github/aonekoda/ml_one_day/blob/main/%EB%B6%84%EB%A5%98%EB%AA%A8%ED%98%95%EC%9D%98%ED%8F%89%EA%B0%80.ipynb\" target=\"_parent\"><img src=\"https://colab.research.google.com/assets/colab-badge.svg\" alt=\"Open In Colab\"/></a>"
      ]
    },
    {
      "cell_type": "markdown",
      "metadata": {
        "id": "ZOymPDJ0JXmk"
      },
      "source": [
        "# 분류모형의 평가\n",
        "   \n",
        "* confusion matrix\n",
        "* accuracy\n",
        "* precision\n",
        "* recall \n",
        "* specificity\n",
        "* fall-out\n",
        "* f1-score\n",
        "* f-beta score\n",
        "* jaccard score\n",
        "* log-loss\n",
        "* classification report\n",
        "* ROC, AUC\n",
        "* precision-recall curve\n"
      ]
    },
    {
      "cell_type": "code",
      "execution_count": 1,
      "metadata": {
        "id": "BmBwlpmVJXmr"
      },
      "outputs": [],
      "source": [
        "import numpy as np\n",
        "import matplotlib.pyplot as plt\n",
        "%matplotlib inline"
      ]
    },
    {
      "cell_type": "code",
      "execution_count": 2,
      "metadata": {
        "id": "1fwHjPPNJXms"
      },
      "outputs": [],
      "source": [
        "from sklearn.datasets import load_breast_cancer\n",
        "\n",
        "cancer = load_breast_cancer()\n",
        "\n",
        "X = cancer.data\n",
        "y = cancer.target"
      ]
    },
    {
      "cell_type": "code",
      "execution_count": 3,
      "metadata": {
        "id": "ZIXFkMyvJXms",
        "outputId": "5f1ecdd1-72ad-4063-fcb1-8543269f49ea",
        "colab": {
          "base_uri": "https://localhost:8080/"
        }
      },
      "outputs": [
        {
          "output_type": "stream",
          "name": "stdout",
          "text": [
            ".. _breast_cancer_dataset:\n",
            "\n",
            "Breast cancer wisconsin (diagnostic) dataset\n",
            "--------------------------------------------\n",
            "\n",
            "**Data Set Characteristics:**\n",
            "\n",
            "    :Number of Instances: 569\n",
            "\n",
            "    :Number of Attributes: 30 numeric, predictive attributes and the class\n",
            "\n",
            "    :Attribute Information:\n",
            "        - radius (mean of distances from center to points on the perimeter)\n",
            "        - texture (standard deviation of gray-scale values)\n",
            "        - perimeter\n",
            "        - area\n",
            "        - smoothness (local variation in radius lengths)\n",
            "        - compactness (perimeter^2 / area - 1.0)\n",
            "        - concavity (severity of concave portions of the contour)\n",
            "        - concave points (number of concave portions of the contour)\n",
            "        - symmetry\n",
            "        - fractal dimension (\"coastline approximation\" - 1)\n",
            "\n",
            "        The mean, standard error, and \"worst\" or largest (mean of the three\n",
            "        worst/largest values) of these features were computed for each image,\n",
            "        resulting in 30 features.  For instance, field 0 is Mean Radius, field\n",
            "        10 is Radius SE, field 20 is Worst Radius.\n",
            "\n",
            "        - class:\n",
            "                - WDBC-Malignant\n",
            "                - WDBC-Benign\n",
            "\n",
            "    :Summary Statistics:\n",
            "\n",
            "    ===================================== ====== ======\n",
            "                                           Min    Max\n",
            "    ===================================== ====== ======\n",
            "    radius (mean):                        6.981  28.11\n",
            "    texture (mean):                       9.71   39.28\n",
            "    perimeter (mean):                     43.79  188.5\n",
            "    area (mean):                          143.5  2501.0\n",
            "    smoothness (mean):                    0.053  0.163\n",
            "    compactness (mean):                   0.019  0.345\n",
            "    concavity (mean):                     0.0    0.427\n",
            "    concave points (mean):                0.0    0.201\n",
            "    symmetry (mean):                      0.106  0.304\n",
            "    fractal dimension (mean):             0.05   0.097\n",
            "    radius (standard error):              0.112  2.873\n",
            "    texture (standard error):             0.36   4.885\n",
            "    perimeter (standard error):           0.757  21.98\n",
            "    area (standard error):                6.802  542.2\n",
            "    smoothness (standard error):          0.002  0.031\n",
            "    compactness (standard error):         0.002  0.135\n",
            "    concavity (standard error):           0.0    0.396\n",
            "    concave points (standard error):      0.0    0.053\n",
            "    symmetry (standard error):            0.008  0.079\n",
            "    fractal dimension (standard error):   0.001  0.03\n",
            "    radius (worst):                       7.93   36.04\n",
            "    texture (worst):                      12.02  49.54\n",
            "    perimeter (worst):                    50.41  251.2\n",
            "    area (worst):                         185.2  4254.0\n",
            "    smoothness (worst):                   0.071  0.223\n",
            "    compactness (worst):                  0.027  1.058\n",
            "    concavity (worst):                    0.0    1.252\n",
            "    concave points (worst):               0.0    0.291\n",
            "    symmetry (worst):                     0.156  0.664\n",
            "    fractal dimension (worst):            0.055  0.208\n",
            "    ===================================== ====== ======\n",
            "\n",
            "    :Missing Attribute Values: None\n",
            "\n",
            "    :Class Distribution: 212 - Malignant, 357 - Benign\n",
            "\n",
            "    :Creator:  Dr. William H. Wolberg, W. Nick Street, Olvi L. Mangasarian\n",
            "\n",
            "    :Donor: Nick Street\n",
            "\n",
            "    :Date: November, 1995\n",
            "\n",
            "This is a copy of UCI ML Breast Cancer Wisconsin (Diagnostic) datasets.\n",
            "https://goo.gl/U2Uwz2\n",
            "\n",
            "Features are computed from a digitized image of a fine needle\n",
            "aspirate (FNA) of a breast mass.  They describe\n",
            "characteristics of the cell nuclei present in the image.\n",
            "\n",
            "Separating plane described above was obtained using\n",
            "Multisurface Method-Tree (MSM-T) [K. P. Bennett, \"Decision Tree\n",
            "Construction Via Linear Programming.\" Proceedings of the 4th\n",
            "Midwest Artificial Intelligence and Cognitive Science Society,\n",
            "pp. 97-101, 1992], a classification method which uses linear\n",
            "programming to construct a decision tree.  Relevant features\n",
            "were selected using an exhaustive search in the space of 1-4\n",
            "features and 1-3 separating planes.\n",
            "\n",
            "The actual linear program used to obtain the separating plane\n",
            "in the 3-dimensional space is that described in:\n",
            "[K. P. Bennett and O. L. Mangasarian: \"Robust Linear\n",
            "Programming Discrimination of Two Linearly Inseparable Sets\",\n",
            "Optimization Methods and Software 1, 1992, 23-34].\n",
            "\n",
            "This database is also available through the UW CS ftp server:\n",
            "\n",
            "ftp ftp.cs.wisc.edu\n",
            "cd math-prog/cpo-dataset/machine-learn/WDBC/\n",
            "\n",
            ".. topic:: References\n",
            "\n",
            "   - W.N. Street, W.H. Wolberg and O.L. Mangasarian. Nuclear feature extraction \n",
            "     for breast tumor diagnosis. IS&T/SPIE 1993 International Symposium on \n",
            "     Electronic Imaging: Science and Technology, volume 1905, pages 861-870,\n",
            "     San Jose, CA, 1993.\n",
            "   - O.L. Mangasarian, W.N. Street and W.H. Wolberg. Breast cancer diagnosis and \n",
            "     prognosis via linear programming. Operations Research, 43(4), pages 570-577, \n",
            "     July-August 1995.\n",
            "   - W.H. Wolberg, W.N. Street, and O.L. Mangasarian. Machine learning techniques\n",
            "     to diagnose breast cancer from fine-needle aspirates. Cancer Letters 77 (1994) \n",
            "     163-171.\n"
          ]
        }
      ],
      "source": [
        "print(cancer.DESCR)"
      ]
    },
    {
      "cell_type": "code",
      "execution_count": 4,
      "metadata": {
        "id": "3tlQkxj4JXmt"
      },
      "outputs": [],
      "source": [
        "from sklearn.model_selection import train_test_split\n",
        "\n",
        "X_train, X_test, y_train, y_test = train_test_split(\n",
        "    X, y, test_size=0.3, random_state=1, stratify=y)"
      ]
    },
    {
      "cell_type": "code",
      "execution_count": 5,
      "metadata": {
        "id": "KLNGoLz2JXmu",
        "outputId": "5789e32c-0792-4912-ec52-a973cb500aef",
        "colab": {
          "base_uri": "https://localhost:8080/"
        }
      },
      "outputs": [
        {
          "output_type": "stream",
          "name": "stdout",
          "text": [
            "테스트 정확도: 0.947\n"
          ]
        }
      ],
      "source": [
        "from sklearn.linear_model import LogisticRegression\n",
        "\n",
        "model = LogisticRegression(solver='liblinear')\n",
        "\n",
        "model.fit(X_train, y_train)\n",
        "\n",
        "print('테스트 정확도: %.3f' % model.score(X_test, y_test))"
      ]
    },
    {
      "cell_type": "markdown",
      "metadata": {
        "id": "Fy_7f_xrJXmv"
      },
      "source": [
        "# confusion matrix\n",
        "분류 모형의 성능을 평가한다. \n",
        "confusion_matrix 함수를 사용한다."
      ]
    },
    {
      "cell_type": "code",
      "execution_count": 6,
      "metadata": {
        "id": "Ees9TbheJXmv",
        "outputId": "ca353dc5-a7b7-4ca0-e426-cf4a6f218f96",
        "colab": {
          "base_uri": "https://localhost:8080/"
        }
      },
      "outputs": [
        {
          "output_type": "stream",
          "name": "stdout",
          "text": [
            "[[ 59   5]\n",
            " [  4 103]]\n"
          ]
        }
      ],
      "source": [
        "from sklearn.metrics import confusion_matrix\n",
        "\n",
        "y_pred = model.predict(X_test)\n",
        "y_pred_probas = model.predict_proba(X_test)\n",
        "confmat = confusion_matrix(y_true=y_test, y_pred=y_pred)\n",
        "print(confmat)"
      ]
    },
    {
      "cell_type": "markdown",
      "metadata": {
        "id": "YBV578UgJXmv"
      },
      "source": [
        "###  Accuracy, Precision, Recall, f1\n",
        "\n",
        "* Accuracy : 정확도. 단순히 정확히 예측한 샘플의 비율 (TP+TN) / (TP+TN+FP+FN)\n",
        "* Precision : 정밀도. 양성으로 예측한 샘플 중 진짜 양성 클래스의 비율, 예측 노이즈 (TP) / (TP+FP)\n",
        "* Recall : 재현율, 진짜 양성 샘플 중에서 양성으로 예측한 비율, 양성 샘플을 구분하는 능력 (TP) / (TP+FN)\n",
        "* f1 : 정밀도와 재현율의 조화평균, 2 * (정밀도*재현율) / (정밀도+재현율), 진짜 양성 레이블을 가진 샘플을 양성으로 성공적으로 예측한 정도를 측정\n",
        "\n",
        "\n",
        "클래스가 불균형하면 모델의 정확도는 높지만 예측 성능이 나쁜 역설적인 상황도 발생할 수 있다.  \n",
        "예를 들어 매우 희귀한 암의 발병률이 0.1%라고 하자. 이 경우 단순히 아무도 암에 걸리지 않았다고 예측하는 모형은 정확도가 99.9%가 될 수도 있다. 이 경우 f1 score가 좀 더 정확한 성능 지표가 된다."
      ]
    },
    {
      "cell_type": "code",
      "execution_count": 7,
      "metadata": {
        "id": "Pjh-K2DEJXmw",
        "outputId": "f4da1677-10d9-4538-f123-81c3bf653e1c",
        "colab": {
          "base_uri": "https://localhost:8080/"
        }
      },
      "outputs": [
        {
          "output_type": "stream",
          "name": "stdout",
          "text": [
            "정밀도(Precision): 0.954\n",
            "재현율(Recall, Sensitivity): 0.963\n",
            "정확도(Accuracy): 0.947\n",
            "F1 Score: 0.958\n",
            "F-beta score : 0.955\n",
            "cohen_kappa_score : 0.887\n",
            "jaccard_score : 0.920\n",
            "Log Loss : 0.109\n"
          ]
        }
      ],
      "source": [
        "from sklearn.metrics import precision_score, recall_score, f1_score, fbeta_score, cohen_kappa_score, jaccard_score, log_loss\n",
        "\n",
        "print('정밀도(Precision): %.3f' % precision_score(y_true=y_test, y_pred=y_pred))\n",
        "print('재현율(Recall, Sensitivity): %.3f' % recall_score(y_true=y_test, y_pred=y_pred))\n",
        "print('정확도(Accuracy): %.3f' % model.score(X_test, y_test))\n",
        "print('F1 Score: %.3f' % f1_score(y_true=y_test, y_pred=y_pred))\n",
        "print('F-beta score : %.3f' % fbeta_score(y_true=y_test, y_pred=y_pred, beta=0.5))\n",
        "print('cohen_kappa_score : %.3f' % cohen_kappa_score(y1=y_test, y2=y_pred))\n",
        "print('jaccard_score : %.3f' % jaccard_score(y_true=y_test, y_pred=y_pred))\n",
        "print('Log Loss : %.3f' % log_loss(y_true=y_test, y_pred=y_pred_probas))"
      ]
    },
    {
      "cell_type": "markdown",
      "metadata": {
        "id": "qsd21-UUJXmw"
      },
      "source": [
        "### classification_report\n",
        "\n",
        "평가 지표의 요약 정보를 확인한다.\n",
        "* classification_report\n",
        "    * macro: 단순평균\n",
        "    * weighted: 각 클래스에 속하는 표본의 갯수로 가중평균\n",
        "    * accuracy: 정확도. 전체 학습데이터의 개수에서 각 클래스에서 자신의 클래스를 정확하게 맞춘 개수의 비율. \n",
        "    * support: 각 클래스에 속한 샘플의 개수"
      ]
    },
    {
      "cell_type": "code",
      "execution_count": 8,
      "metadata": {
        "id": "dDC40PNdJXmx",
        "outputId": "11baf7e6-14ea-4438-83d4-76c7adb1eb1c",
        "colab": {
          "base_uri": "https://localhost:8080/"
        }
      },
      "outputs": [
        {
          "output_type": "stream",
          "name": "stdout",
          "text": [
            "              precision    recall  f1-score   support\n",
            "\n",
            " Malignant 0       0.94      0.92      0.93        64\n",
            "    Benign 1       0.95      0.96      0.96       107\n",
            "\n",
            "    accuracy                           0.95       171\n",
            "   macro avg       0.95      0.94      0.94       171\n",
            "weighted avg       0.95      0.95      0.95       171\n",
            "\n"
          ]
        }
      ],
      "source": [
        "from sklearn.metrics import classification_report\n",
        "\n",
        "print(classification_report(y_test, y_pred, target_names=['Malignant 0', 'Benign 1']))"
      ]
    },
    {
      "cell_type": "markdown",
      "metadata": {
        "id": "fAoLtfeGJXmx"
      },
      "source": [
        "### ROC, AUC\n",
        "\n",
        "* ROC(Receiver Operating Chracteristic) : 분류 모형의 FPR과 TPR 점수를 기반으로 분류 모형의 성능을 비교 할 때 유용하다.\n",
        "* AUC(Area Under the Curve) : ROC 그래프의 아래 면적, 1에 가까울 수록 좋은 모형이다."
      ]
    },
    {
      "cell_type": "code",
      "execution_count": 9,
      "metadata": {
        "id": "3zvdhAdiJXmy",
        "outputId": "bbd5e520-88bf-4287-dcf3-a6f7a9c9b2e9",
        "colab": {
          "base_uri": "https://localhost:8080/"
        }
      },
      "outputs": [
        {
          "output_type": "execute_result",
          "data": {
            "text/plain": [
              "(array([0.      , 0.      , 0.      , 0.015625, 0.015625, 0.03125 ,\n",
              "        0.03125 , 0.0625  , 0.0625  , 0.078125, 0.078125, 0.109375,\n",
              "        0.109375, 0.140625, 0.140625, 1.      ]),\n",
              " array([0.        , 0.00934579, 0.87850467, 0.87850467, 0.92523364,\n",
              "        0.92523364, 0.94392523, 0.94392523, 0.96261682, 0.96261682,\n",
              "        0.97196262, 0.97196262, 0.99065421, 0.99065421, 1.        ,\n",
              "        1.        ]),\n",
              " array([1.99998894e+00, 9.99988944e-01, 9.32614824e-01, 9.24158594e-01,\n",
              "        8.42625831e-01, 8.36756274e-01, 8.15689771e-01, 7.61803493e-01,\n",
              "        5.31557084e-01, 5.06352202e-01, 4.56443373e-01, 3.39921961e-01,\n",
              "        2.56094059e-01, 1.52043135e-01, 1.35034630e-01, 1.25018644e-21]))"
            ]
          },
          "metadata": {},
          "execution_count": 9
        }
      ],
      "source": [
        "from sklearn.metrics import roc_curve, auc\n",
        "\n",
        "fpr, tpr, thresholds = roc_curve(y_test,\n",
        "                                     y_pred_probas[:, 1],\n",
        "                                     pos_label=1)\n",
        "fpr, tpr, thresholds "
      ]
    },
    {
      "cell_type": "code",
      "execution_count": 10,
      "metadata": {
        "id": "fnE1Ogs5JXmz",
        "outputId": "db4af0a2-6e5e-437d-ebba-66746339d2c5",
        "colab": {
          "base_uri": "https://localhost:8080/",
          "height": 279
        }
      },
      "outputs": [
        {
          "output_type": "display_data",
          "data": {
            "image/png": "[encoded data removed]",
            "text/plain": [
              "<Figure size 432x288 with 1 Axes>"
            ]
          },
          "metadata": {
            "needs_background": "light"
          }
        }
      ],
      "source": [
        "plt.plot(fpr, tpr)\n",
        "\n",
        "plt.xlabel('false positive rate')\n",
        "plt.ylabel('true positive rate')\n",
        "plt.show()"
      ]
    },
    {
      "cell_type": "code",
      "execution_count": 11,
      "metadata": {
        "id": "PkUwOIe-JXmz",
        "outputId": "ee786d1d-7b61-4382-87e6-52be1958e74b",
        "colab": {
          "base_uri": "https://localhost:8080/"
        }
      },
      "outputs": [
        {
          "output_type": "stream",
          "name": "stdout",
          "text": [
            "AUC : 0.993\n"
          ]
        }
      ],
      "source": [
        "roc_auc = auc(fpr, tpr)\n",
        "print('AUC : %.3f' % roc_auc)"
      ]
    },
    {
      "cell_type": "markdown",
      "source": [
        "### Precision-Recall curve\n",
        "\n",
        "정밀도와 재현율 모두 높을수록(그래프의 오른쪽 위) 좋은 모델이라고 할 수 있다."
      ],
      "metadata": {
        "id": "nfP0bkEGlPVW"
      }
    },
    {
      "cell_type": "code",
      "source": [
        "from sklearn.metrics import precision_recall_curve\n",
        "\n",
        "precision, recall, thresholds = precision_recall_curve(y_test, y_pred_probas[:, 1])\n"
      ],
      "metadata": {
        "id": "AlZdUSMblbKf"
      },
      "execution_count": 12,
      "outputs": []
    },
    {
      "cell_type": "code",
      "source": [
        "plt.plot(recall, precision)\n",
        "plt.title('Precision-Recall Curve')\n",
        "plt.xlabel('recall')\n",
        "plt.ylabel('precisionb')"
      ],
      "metadata": {
        "colab": {
          "base_uri": "https://localhost:8080/",
          "height": 314
        },
        "id": "cNpILJGnmfNZ",
        "outputId": "0d4fbd36-80fd-4883-89e3-bb6a9ab00cb5"
      },
      "execution_count": 13,
      "outputs": [
        {
          "output_type": "execute_result",
          "data": {
            "text/plain": [
              "Text(0, 0.5, 'precisionb')"
            ]
          },
          "metadata": {},
          "execution_count": 13
        },
        {
          "output_type": "display_data",
          "data": {
            "image/png": "[encoded data removed]",
            "text/plain": [
              "<Figure size 432x288 with 1 Axes>"
            ]
          },
          "metadata": {
            "needs_background": "light"
          }
        }
      ]
    }
  ],
  "metadata": {
    "colab": {
      "name": "분류모형의평가.ipynb",
      "provenance": [],
      "include_colab_link": true
    },
    "kernelspec": {
      "display_name": "Python 3",
      "language": "python",
      "name": "python3"
    },
    "language_info": {
      "codemirror_mode": {
        "name": "ipython",
        "version": 3
      },
      "file_extension": ".py",
      "mimetype": "text/x-python",
      "name": "python",
      "nbconvert_exporter": "python",
      "pygments_lexer": "ipython3",
      "version": "3.8.8"
    }
  },
  "nbformat": 4,
  "nbformat_minor": 0
}